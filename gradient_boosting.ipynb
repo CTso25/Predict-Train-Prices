{
 "cells": [
  {
   "cell_type": "code",
   "execution_count": 22,
   "metadata": {},
   "outputs": [
    {
     "name": "stdout",
     "output_type": "stream",
     "text": [
      "Train data(range):\n",
      "2019-04-11 21:49:48\n",
      "2019-06-14 19:06:40\n",
      "Test data(range):\n",
      "2019-06-14 19:07:10\n",
      "2019-08-22 19:05:05\n"
     ]
    }
   ],
   "source": [
    "import pandas as pd\n",
    "import numpy as np\n",
    "import matplotlib.pyplot as plt\n",
    "import seaborn as sns\n",
    "import lightgbm as lgb\n",
    "\n",
    "from preprocessor import prepare_data \n",
    "from sklearn.model_selection import KFold, GridSearchCV, RandomizedSearchCV\n",
    "from sklearn.linear_model import LinearRegression, Ridge\n",
    "from sklearn.metrics import mean_squared_error, r2_score\n",
    "from sklearn.ensemble import GradientBoostingRegressor\n",
    "from lightgbm import LGBMRegressor\n",
    "\n",
    "# Load in pre-split data\n",
    "X_train, X_test, y_train, y_test = prepare_data()"
   ]
  },
  {
   "cell_type": "code",
   "execution_count": 6,
   "metadata": {},
   "outputs": [],
   "source": [
    "y_train = list(np.array(y_train).flatten())\n",
    "y_test = list(np.array(y_test).flatten())"
   ]
  },
  {
   "cell_type": "markdown",
   "metadata": {},
   "source": [
    "## Gradient Boosting Model(s)"
   ]
  },
  {
   "cell_type": "markdown",
   "metadata": {},
   "source": [
    "#### GradientBoostingRegressor"
   ]
  },
  {
   "cell_type": "code",
   "execution_count": 18,
   "metadata": {},
   "outputs": [],
   "source": [
    "lower_alpha = 0.1\n",
    "upper_alpha = 0.9\n",
    "lower_model = GradientBoostingRegressor(loss=\"quantile\", alpha=lower_alpha, n_estimators=200, max_depth=2)\n",
    "mid_model = GradientBoostingRegressor(loss=\"ls\", n_estimators=200, max_depth=2)\n",
    "upper_model = GradientBoostingRegressor(loss=\"quantile\", alpha=upper_alpha, n_estimators=200, max_depth=2)"
   ]
  },
  {
   "cell_type": "code",
   "execution_count": 19,
   "metadata": {},
   "outputs": [],
   "source": [
    "lower_model.fit(X_train, y_train)\n",
    "mid_model.fit(X_train, y_train)\n",
    "upper_model.fit(X_train, y_train)\n",
    "predictions = pd.DataFrame(y_test)\n",
    "predictions['lower'] = lower_model.predict(X_test)\n",
    "predictions['mid'] = mid_model.predict(X_test)\n",
    "predictions['upper'] = upper_model.predict(X_test)"
   ]
  },
  {
   "cell_type": "code",
   "execution_count": 20,
   "metadata": {},
   "outputs": [
    {
     "data": {
      "text/html": [
       "<div>\n",
       "<style scoped>\n",
       "    .dataframe tbody tr th:only-of-type {\n",
       "        vertical-align: middle;\n",
       "    }\n",
       "\n",
       "    .dataframe tbody tr th {\n",
       "        vertical-align: top;\n",
       "    }\n",
       "\n",
       "    .dataframe thead th {\n",
       "        text-align: right;\n",
       "    }\n",
       "</style>\n",
       "<table border=\"1\" class=\"dataframe\">\n",
       "  <thead>\n",
       "    <tr style=\"text-align: right;\">\n",
       "      <th></th>\n",
       "      <th>0</th>\n",
       "      <th>lower</th>\n",
       "      <th>mid</th>\n",
       "      <th>upper</th>\n",
       "    </tr>\n",
       "  </thead>\n",
       "  <tbody>\n",
       "    <tr>\n",
       "      <th>0</th>\n",
       "      <td>43.55</td>\n",
       "      <td>40.724993</td>\n",
       "      <td>41.240929</td>\n",
       "      <td>57.956430</td>\n",
       "    </tr>\n",
       "    <tr>\n",
       "      <th>1</th>\n",
       "      <td>60.30</td>\n",
       "      <td>41.374993</td>\n",
       "      <td>53.254432</td>\n",
       "      <td>60.248332</td>\n",
       "    </tr>\n",
       "    <tr>\n",
       "      <th>2</th>\n",
       "      <td>52.45</td>\n",
       "      <td>40.724993</td>\n",
       "      <td>56.316602</td>\n",
       "      <td>77.922834</td>\n",
       "    </tr>\n",
       "    <tr>\n",
       "      <th>3</th>\n",
       "      <td>41.20</td>\n",
       "      <td>41.374993</td>\n",
       "      <td>49.818499</td>\n",
       "      <td>60.300004</td>\n",
       "    </tr>\n",
       "    <tr>\n",
       "      <th>4</th>\n",
       "      <td>52.45</td>\n",
       "      <td>40.724993</td>\n",
       "      <td>56.656248</td>\n",
       "      <td>77.922834</td>\n",
       "    </tr>\n",
       "    <tr>\n",
       "      <th>...</th>\n",
       "      <td>...</td>\n",
       "      <td>...</td>\n",
       "      <td>...</td>\n",
       "      <td>...</td>\n",
       "    </tr>\n",
       "    <tr>\n",
       "      <th>12495</th>\n",
       "      <td>90.50</td>\n",
       "      <td>56.425357</td>\n",
       "      <td>78.886848</td>\n",
       "      <td>102.396529</td>\n",
       "    </tr>\n",
       "    <tr>\n",
       "      <th>12496</th>\n",
       "      <td>47.30</td>\n",
       "      <td>41.374993</td>\n",
       "      <td>41.951513</td>\n",
       "      <td>60.248332</td>\n",
       "    </tr>\n",
       "    <tr>\n",
       "      <th>12497</th>\n",
       "      <td>47.30</td>\n",
       "      <td>41.374993</td>\n",
       "      <td>39.761983</td>\n",
       "      <td>60.300004</td>\n",
       "    </tr>\n",
       "    <tr>\n",
       "      <th>12498</th>\n",
       "      <td>60.30</td>\n",
       "      <td>41.374993</td>\n",
       "      <td>41.264174</td>\n",
       "      <td>60.300004</td>\n",
       "    </tr>\n",
       "    <tr>\n",
       "      <th>12499</th>\n",
       "      <td>53.40</td>\n",
       "      <td>41.374993</td>\n",
       "      <td>38.209020</td>\n",
       "      <td>60.300004</td>\n",
       "    </tr>\n",
       "  </tbody>\n",
       "</table>\n",
       "<p>12500 rows × 4 columns</p>\n",
       "</div>"
      ],
      "text/plain": [
       "           0      lower        mid       upper\n",
       "0      43.55  40.724993  41.240929   57.956430\n",
       "1      60.30  41.374993  53.254432   60.248332\n",
       "2      52.45  40.724993  56.316602   77.922834\n",
       "3      41.20  41.374993  49.818499   60.300004\n",
       "4      52.45  40.724993  56.656248   77.922834\n",
       "...      ...        ...        ...         ...\n",
       "12495  90.50  56.425357  78.886848  102.396529\n",
       "12496  47.30  41.374993  41.951513   60.248332\n",
       "12497  47.30  41.374993  39.761983   60.300004\n",
       "12498  60.30  41.374993  41.264174   60.300004\n",
       "12499  53.40  41.374993  38.209020   60.300004\n",
       "\n",
       "[12500 rows x 4 columns]"
      ]
     },
     "execution_count": 20,
     "metadata": {},
     "output_type": "execute_result"
    }
   ],
   "source": [
    "predictions"
   ]
  },
  {
   "cell_type": "code",
   "execution_count": 23,
   "metadata": {},
   "outputs": [
    {
     "data": {
      "text/plain": [
       "0.8503742287773248"
      ]
     },
     "execution_count": 23,
     "metadata": {},
     "output_type": "execute_result"
    }
   ],
   "source": [
    "mid_model.score(X_test, y_test)"
   ]
  },
  {
   "cell_type": "markdown",
   "metadata": {},
   "source": [
    "#### LightLGBM Regressor"
   ]
  },
  {
   "cell_type": "code",
   "execution_count": 28,
   "metadata": {},
   "outputs": [
    {
     "data": {
      "text/plain": [
       "0.8965714902659896"
      ]
     },
     "execution_count": 28,
     "metadata": {},
     "output_type": "execute_result"
    }
   ],
   "source": [
    "lgbm = LGBMRegressor(n_estimators=150)\n",
    "lgbm.fit(X_train, y_train)\n",
    "lgbm.score(X_test, y_test)"
   ]
  },
  {
   "cell_type": "code",
   "execution_count": null,
   "metadata": {},
   "outputs": [],
   "source": []
  }
 ],
 "metadata": {
  "kernelspec": {
   "display_name": "Python 3",
   "language": "python",
   "name": "python3"
  },
  "language_info": {
   "codemirror_mode": {
    "name": "ipython",
    "version": 3
   },
   "file_extension": ".py",
   "mimetype": "text/x-python",
   "name": "python",
   "nbconvert_exporter": "python",
   "pygments_lexer": "ipython3",
   "version": "3.7.4"
  }
 },
 "nbformat": 4,
 "nbformat_minor": 2
}
