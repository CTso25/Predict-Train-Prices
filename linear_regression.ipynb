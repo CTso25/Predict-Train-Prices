{
 "cells": [
  {
   "cell_type": "code",
   "execution_count": 2,
   "metadata": {},
   "outputs": [
    {
     "name": "stdout",
     "output_type": "stream",
     "text": [
      "Train data(range):\n",
      "2019-04-11 21:49:48\n",
      "2019-06-14 19:06:40\n",
      "Test data(range):\n",
      "2019-06-14 19:07:10\n",
      "2019-08-22 19:05:05\n"
     ]
    }
   ],
   "source": [
    "import pandas as pd\n",
    "import numpy as np\n",
    "import matplotlib.pyplot as plt\n",
    "import seaborn as sns\n",
    "\n",
    "from preprocessor import prepare_data, get_features \n",
    "from sklearn.linear_model import LinearRegression, Ridge, Lasso\n",
    "from sklearn.metrics import mean_squared_error, r2_score\n",
    "\n",
    "# Load in pre-split data\n",
    "X_train, X_test, y_train, y_test = prepare_data()\n",
    "\n",
    "# Load in features \n",
    "features = get_features()"
   ]
  },
  {
   "cell_type": "markdown",
   "metadata": {},
   "source": [
    "## Linear Regression Model(s)"
   ]
  },
  {
   "cell_type": "code",
   "execution_count": 23,
   "metadata": {},
   "outputs": [
    {
     "name": "stdout",
     "output_type": "stream",
     "text": [
      "0.8468011993043935\n",
      "Train Scores:\n",
      "103.75570367036494\n",
      "0.8468011993043935\n",
      "Test Scores:\n",
      "105.18463105412509\n",
      "0.8160356246149084\n"
     ]
    }
   ],
   "source": [
    "# Linear Regression model (without regularization)\n",
    "lm = LinearRegression()\n",
    "lm.fit(X_train, y_train)\n",
    "\n",
    "# Compute predictions\n",
    "y_pred_train = lm.predict(X_train)\n",
    "y_pred_test = lm.predict(X_test)\n",
    "\n",
    "# Compute metrics\n",
    "MSE = mean_squared_error(y_train, y_pred_train)\n",
    "r2 = r2_score(y_train, y_pred_train)\n",
    "\n",
    "print(\"Train Scores:\")\n",
    "print(MSE)\n",
    "print(r2)\n",
    "\n",
    "MSE = mean_squared_error(y_test, y_pred_test)\n",
    "r2 = r2_score(y_test, y_pred_test)\n",
    "\n",
    "print(\"Test Scores:\")\n",
    "print(MSE)\n",
    "print(r2)"
   ]
  },
  {
   "cell_type": "code",
   "execution_count": 17,
   "metadata": {},
   "outputs": [
    {
     "name": "stdout",
     "output_type": "stream",
     "text": [
      "Train Scores:\n",
      "103.71239514613167\n",
      "0.8468651458031181\n",
      "Test Scores:\n",
      "104.81110578176316\n",
      "0.8166889077298651\n"
     ]
    }
   ],
   "source": [
    "# Linear Regression model (with Ridge Regression)\n",
    "rr = Ridge(alpha=0.02)\n",
    "rr.fit(X_train, y_train)\n",
    "\n",
    "# Compute predictions\n",
    "y_pred_train = rr.predict(X_train)\n",
    "y_pred_test = rr.predict(X_test)\n",
    "\n",
    "# Compute metrics\n",
    "MSE = mean_squared_error(y_train, y_pred_train)\n",
    "r2 = r2_score(y_train, y_pred_train)\n",
    "\n",
    "print(\"Train Scores:\")\n",
    "print(MSE)\n",
    "print(r2)\n",
    "\n",
    "MSE = mean_squared_error(y_test, y_pred_test)\n",
    "r2 = r2_score(y_test, y_pred_test)\n",
    "\n",
    "print(\"Test Scores:\")\n",
    "print(MSE)\n",
    "print(r2)"
   ]
  },
  {
   "cell_type": "code",
   "execution_count": 6,
   "metadata": {},
   "outputs": [
    {
     "name": "stdout",
     "output_type": "stream",
     "text": [
      "Train Scores:\n",
      "104.2247066086749\n",
      "0.8461087006259587\n",
      "Test Scores:\n",
      "103.23472472565295\n",
      "0.8194459450788575\n",
      "[-4.71113821e+00  0.00000000e+00  0.00000000e+00  2.43473156e-01\n",
      " -8.12242197e-02  1.63427830e+01 -0.00000000e+00  1.14589404e-01\n",
      "  0.00000000e+00 -7.37736798e-01 -8.75434856e-01 -2.03611605e+00\n",
      "  8.28721969e-01  0.00000000e+00 -1.20418571e+00 -2.16899273e+00\n",
      "  0.00000000e+00  1.02273392e+00 -0.00000000e+00 -8.68587672e-01\n",
      " -2.33477317e+00  0.00000000e+00 -0.00000000e+00 -4.38681611e-01\n",
      " -3.35841875e-03  9.08554934e-02  8.74378573e-01 -6.83235248e-01\n",
      "  9.19977034e-01 -5.56385280e-01  0.00000000e+00  2.02260358e+00\n",
      "  4.64805124e-03  5.51920223e-01  5.00044459e-01 -1.62249142e+00\n",
      " -1.10477939e-01 -5.13597684e-01  5.32336786e-02 -9.08742891e-02\n",
      " -6.76461577e-01 -2.47164051e+00  0.00000000e+00 -1.28094949e-01\n",
      " -0.00000000e+00  8.29539789e+00  0.00000000e+00  0.00000000e+00\n",
      " -3.38977618e+00  0.00000000e+00  8.42790836e-01  0.00000000e+00\n",
      "  3.88170240e-01  4.66989676e+00 -1.58547027e+00  1.30995010e+00\n",
      " -0.00000000e+00]\n",
      "                                  Coefficient\n",
      "travel_mins                         -4.711138\n",
      "originpop                            0.000000\n",
      "destinationpop                       0.000000\n",
      "days_to_holiday                      0.243473\n",
      "days_from_holiday                   -0.081224\n",
      "distance                            16.342783\n",
      "month                               -0.000000\n",
      "date                                 0.114589\n",
      "hour                                 0.000000\n",
      "minute                              -0.737737\n",
      "is_overnight                        -0.875435\n",
      "days_to_trip                        -2.036116\n",
      "origin_BARCELONA                     0.828722\n",
      "origin_MADRID                        0.000000\n",
      "origin_PONFERRADA                   -1.204186\n",
      "origin_SEVILLA                      -2.168993\n",
      "origin_VALENCIA                      0.000000\n",
      "destination_BARCELONA                1.022734\n",
      "destination_MADRID                  -0.000000\n",
      "destination_PONFERRADA              -0.868588\n",
      "destination_SEVILLA                 -2.334773\n",
      "destination_VALENCIA                 0.000000\n",
      "dotw_0                              -0.000000\n",
      "dotw_1                              -0.438682\n",
      "dotw_2                              -0.003358\n",
      "dotw_3                               0.090855\n",
      "dotw_4                               0.874379\n",
      "dotw_5                              -0.683235\n",
      "dotw_6                               0.919977\n",
      "train_type_ALVIA                    -0.556385\n",
      "train_type_AV City                   0.000000\n",
      "train_type_AVE                       2.022604\n",
      "train_type_AVE-LD                    0.004648\n",
      "train_type_AVE-MD                    0.551920\n",
      "train_type_AVE-TGV                   0.500044\n",
      "train_type_INTERCITY                -1.622491\n",
      "train_type_LD                       -0.110478\n",
      "train_type_LD-MD                    -0.513598\n",
      "train_type_MD                        0.053234\n",
      "train_type_MD-AVE                   -0.090874\n",
      "train_type_MD-LD                    -0.676462\n",
      "train_type_R. EXPRES                -2.471641\n",
      "train_type_REGIONAL                  0.000000\n",
      "train_type_TRENHOTEL                -0.128095\n",
      "fare_Adulto Ida                     -0.000000\n",
      "fare_Flexible                        8.295398\n",
      "fare_Grupos Ida                      0.000000\n",
      "fare_Individual Sleeper-Flexible     0.000000\n",
      "fare_Promo                          -3.389776\n",
      "fare_Promo +                         0.000000\n",
      "fare_Table                           0.842791\n",
      "train_class_Cama G. Clase            0.000000\n",
      "train_class_Cama Turista             0.388170\n",
      "train_class_Preferente               4.669897\n",
      "train_class_Turista                 -1.585470\n",
      "train_class_Turista Plus             1.309950\n",
      "train_class_Turista con enlace      -0.000000\n"
     ]
    }
   ],
   "source": [
    "# Linear Regression model (with Ridge Regression)\n",
    "lso = Lasso(alpha=0.1, tol=0.001)\n",
    "lso.fit(X_train, y_train)\n",
    "\n",
    "# Compute predictions\n",
    "y_pred_train = lso.predict(X_train)\n",
    "y_pred_test = lso.predict(X_test)\n",
    "\n",
    "# Compute metrics\n",
    "MSE = mean_squared_error(y_train, y_pred_train)\n",
    "r2 = r2_score(y_train, y_pred_train)\n",
    "\n",
    "print(\"Train Scores:\")\n",
    "print(MSE)\n",
    "print(r2)\n",
    "\n",
    "MSE = mean_squared_error(y_test, y_pred_test)\n",
    "r2 = r2_score(y_test, y_pred_test)\n",
    "\n",
    "print(\"Test Scores:\")\n",
    "print(MSE)\n",
    "print(r2)\n",
    "\n",
    "coef_df = pd.DataFrame(lso.coef_, features, columns=['Coefficient'])\n",
    "print(coef_df)"
   ]
  },
  {
   "cell_type": "code",
   "execution_count": null,
   "metadata": {},
   "outputs": [],
   "source": []
  }
 ],
 "metadata": {
  "kernelspec": {
   "display_name": "Python 3",
   "language": "python",
   "name": "python3"
  },
  "language_info": {
   "codemirror_mode": {
    "name": "ipython",
    "version": 3
   },
   "file_extension": ".py",
   "mimetype": "text/x-python",
   "name": "python",
   "nbconvert_exporter": "python",
   "pygments_lexer": "ipython3",
   "version": "3.7.4"
  }
 },
 "nbformat": 4,
 "nbformat_minor": 2
}
