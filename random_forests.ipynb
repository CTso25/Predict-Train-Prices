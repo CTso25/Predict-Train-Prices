{
 "cells": [
  {
   "cell_type": "code",
   "execution_count": 5,
   "metadata": {},
   "outputs": [
    {
     "name": "stdout",
     "output_type": "stream",
     "text": [
      "Train data(range):\n",
      "2019-04-11 21:49:48\n",
      "2019-06-14 19:06:40\n",
      "Test data(range):\n",
      "2019-06-14 19:07:10\n",
      "2019-08-22 19:05:05\n"
     ]
    }
   ],
   "source": [
    "import pandas as pd\n",
    "import numpy as np\n",
    "import matplotlib.pyplot as plt\n",
    "import seaborn as sns\n",
    "\n",
    "from preprocessor import prepare_data \n",
    "from sklearn.linear_model import LinearRegression, Ridge\n",
    "from sklearn.metrics import mean_squared_error, r2_score\n",
    "from sklearn.ensemble import RandomForestRegressor\n",
    "\n",
    "# Load in pre-split data\n",
    "X_train, X_test, y_train, y_test = prepare_data()"
   ]
  },
  {
   "cell_type": "code",
   "execution_count": 17,
   "metadata": {},
   "outputs": [],
   "source": [
    "y_train = list(np.array(y_train).flatten())\n",
    "y_test = list(np.array(y_test).flatten())"
   ]
  },
  {
   "cell_type": "markdown",
   "metadata": {},
   "source": [
    "## Random Forest Network(s)"
   ]
  },
  {
   "cell_type": "code",
   "execution_count": 15,
   "metadata": {},
   "outputs": [],
   "source": [
    "rf_10 = RandomForestRegressor(n_estimators=10)\n",
    "rf_50 = RandomForestRegressor(n_estimators=50)\n",
    "rf_75 = RandomForestRegressor(n_estimators=75)\n",
    "rf_100 = RandomForestRegressor(n_estimators=100)\n",
    "rf_125 = RandomForestRegressor(n_estimators=125)\n",
    "rf_150 = RandomForestRegressor(n_estimators=150)\n",
    "rf_200 = RandomForestRegressor(n_estimators=200)\n",
    "rf_250 = RandomForestRegressor(n_estimators=250)\n",
    "rf_300 = RandomForestRegressor(n_estimators=300)"
   ]
  },
  {
   "cell_type": "code",
   "execution_count": 16,
   "metadata": {},
   "outputs": [
    {
     "data": {
      "text/plain": [
       "RandomForestRegressor(bootstrap=True, criterion='mse', max_depth=None,\n",
       "                      max_features='auto', max_leaf_nodes=None,\n",
       "                      min_impurity_decrease=0.0, min_impurity_split=None,\n",
       "                      min_samples_leaf=1, min_samples_split=2,\n",
       "                      min_weight_fraction_leaf=0.0, n_estimators=300,\n",
       "                      n_jobs=None, oob_score=False, random_state=None,\n",
       "                      verbose=0, warm_start=False)"
      ]
     },
     "execution_count": 16,
     "metadata": {},
     "output_type": "execute_result"
    }
   ],
   "source": [
    "rf_10.fit(X_train, y_train)\n",
    "rf_50.fit(X_train, y_train)\n",
    "rf_75.fit(X_train, y_train)\n",
    "rf_100.fit(X_train, y_train)\n",
    "rf_125.fit(X_train, y_train)\n",
    "rf_150.fit(X_train, y_train)\n",
    "rf_200.fit(X_train, y_train)\n",
    "rf_250.fit(X_train, y_train)\n",
    "rf_300.fit(X_train, y_train)"
   ]
  },
  {
   "cell_type": "code",
   "execution_count": 19,
   "metadata": {},
   "outputs": [
    {
     "name": "stdout",
     "output_type": "stream",
     "text": [
      "[4.5805104114342345, 3.381818219681957, 3.281186440635692, 3.1877947473010613, 3.1749997027552284, 3.1498923511892394, 3.1488067291829624, 3.1221046601118227, 3.0639491289748824]\n",
      "[65.29366779658136, 60.18733671545936, 58.73488942938467, 59.3189216108105, 59.20324377717188, 58.63292298407547, 59.3189216108105, 59.20324377717188, 58.63292298407547]\n"
     ]
    }
   ],
   "source": [
    "rf_10_preds_train = rf_10.predict(X_train)\n",
    "rf_50_preds_train = rf_50.predict(X_train)\n",
    "rf_75_preds_train = rf_75.predict(X_train)\n",
    "rf_100_preds_train = rf_100.predict(X_train)\n",
    "rf_125_preds_train = rf_125.predict(X_train)\n",
    "rf_150_preds_train = rf_150.predict(X_train)\n",
    "rf_200_preds_train = rf_200.predict(X_train)\n",
    "rf_250_preds_train = rf_250.predict(X_train)\n",
    "rf_300_preds_train = rf_300.predict(X_train)\n",
    "rf_10_preds_test = rf_10.predict(X_test)\n",
    "rf_50_preds_test = rf_50.predict(X_test)\n",
    "rf_75_preds_test = rf_75.predict(X_test)\n",
    "rf_100_preds_test = rf_100.predict(X_test)\n",
    "rf_125_preds_test = rf_125.predict(X_test)\n",
    "rf_150_preds_test = rf_150.predict(X_test)\n",
    "rf_200_preds_test = rf_200.predict(X_test)\n",
    "rf_250_preds_test = rf_250.predict(X_test)\n",
    "rf_300_preds_test = rf_300.predict(X_test)\n",
    "rf_10_MSE_train = mean_squared_error(y_train, rf_10_preds_train)\n",
    "rf_50_MSE_train = mean_squared_error(y_train, rf_50_preds_train)\n",
    "rf_75_MSE_train = mean_squared_error(y_train, rf_75_preds_train)\n",
    "rf_100_MSE_train = mean_squared_error(y_train, rf_100_preds_train)\n",
    "rf_125_MSE_train = mean_squared_error(y_train, rf_125_preds_train)\n",
    "rf_150_MSE_train = mean_squared_error(y_train, rf_150_preds_train)\n",
    "rf_200_MSE_train = mean_squared_error(y_train, rf_200_preds_train)\n",
    "rf_250_MSE_train = mean_squared_error(y_train, rf_250_preds_train)\n",
    "rf_300_MSE_train = mean_squared_error(y_train, rf_300_preds_train)\n",
    "rf_10_MSE_test = mean_squared_error(y_test, rf_10_preds_test)\n",
    "rf_50_MSE_test = mean_squared_error(y_test, rf_50_preds_test)\n",
    "rf_75_MSE_test = mean_squared_error(y_test, rf_75_preds_test)\n",
    "rf_100_MSE_test = mean_squared_error(y_test, rf_100_preds_test)\n",
    "rf_125_MSE_test = mean_squared_error(y_test, rf_125_preds_test)\n",
    "rf_150_MSE_test = mean_squared_error(y_test, rf_150_preds_test)\n",
    "rf_200_MSE_test = mean_squared_error(y_test, rf_100_preds_test)\n",
    "rf_250_MSE_test = mean_squared_error(y_test, rf_125_preds_test)\n",
    "rf_300_MSE_test = mean_squared_error(y_test, rf_150_preds_test)\n",
    "rf_MSE_train = [rf_10_MSE_train, rf_50_MSE_train, rf_75_MSE_train, rf_100_MSE_train, rf_125_MSE_train,\\\n",
    "                rf_150_MSE_train, rf_200_MSE_train, rf_250_MSE_train, rf_300_MSE_train]\n",
    "rf_MSE_test = [rf_10_MSE_test, rf_50_MSE_test, rf_75_MSE_test, rf_100_MSE_test, rf_125_MSE_test, \\\n",
    "              rf_150_MSE_test, rf_200_MSE_test, rf_250_MSE_test, rf_300_MSE_test]\n",
    "print(rf_MSE_train)\n",
    "print(rf_MSE_test)"
   ]
  },
  {
   "cell_type": "code",
   "execution_count": 26,
   "metadata": {},
   "outputs": [
    {
     "data": {
      "text/plain": [
       "RandomForestRegressor(bootstrap=True, criterion='mse', max_depth=15,\n",
       "                      max_features='auto', max_leaf_nodes=None,\n",
       "                      min_impurity_decrease=0.0, min_impurity_split=None,\n",
       "                      min_samples_leaf=1, min_samples_split=2,\n",
       "                      min_weight_fraction_leaf=0.0, n_estimators=300,\n",
       "                      n_jobs=None, oob_score=False, random_state=None,\n",
       "                      verbose=0, warm_start=False)"
      ]
     },
     "execution_count": 26,
     "metadata": {},
     "output_type": "execute_result"
    }
   ],
   "source": [
    "rf_50_max = RandomForestRegressor(n_estimators=50, max_depth=15)\n",
    "rf_100_max = RandomForestRegressor(n_estimators=100, max_depth=15)\n",
    "rf_150_max = RandomForestRegressor(n_estimators=150, max_depth=15)\n",
    "rf_200_max = RandomForestRegressor(n_estimators=200, max_depth=15)\n",
    "rf_250_max = RandomForestRegressor(n_estimators=250, max_depth=15)\n",
    "rf_300_max = RandomForestRegressor(n_estimators=300, max_depth=15)\n",
    "rf_50_max.fit(X_train, y_train)\n",
    "rf_100_max.fit(X_train, y_train)\n",
    "rf_150_max.fit(X_train, y_train)\n",
    "rf_200_max.fit(X_train, y_train)\n",
    "rf_250_max.fit(X_train, y_train)\n",
    "rf_300_max.fit(X_train, y_train)"
   ]
  },
  {
   "cell_type": "code",
   "execution_count": 27,
   "metadata": {},
   "outputs": [
    {
     "name": "stdout",
     "output_type": "stream",
     "text": [
      "[18.44018784639401, 18.593617576436795, 18.192442136592188, 18.33091703441759, 18.26829639363031, 18.20660654445546]\n",
      "[60.81190578565681, 59.88505432255991, 59.395209501230305, 59.604123866534884, 58.765608595452456, 59.21484699331863]\n"
     ]
    }
   ],
   "source": [
    "rf_50_max_preds_train = rf_50_max.predict(X_train)\n",
    "rf_50_max_preds_test = rf_50_max.predict(X_test)\n",
    "rf_100_max_preds_train = rf_100_max.predict(X_train)\n",
    "rf_100_max_preds_test = rf_100_max.predict(X_test)\n",
    "rf_150_max_preds_train = rf_150_max.predict(X_train)\n",
    "rf_150_max_preds_test = rf_150_max.predict(X_test)\n",
    "rf_200_max_preds_train = rf_200_max.predict(X_train)\n",
    "rf_200_max_preds_test = rf_200_max.predict(X_test)\n",
    "rf_250_max_preds_train = rf_250_max.predict(X_train)\n",
    "rf_250_max_preds_test = rf_250_max.predict(X_test)\n",
    "rf_300_max_preds_train = rf_300_max.predict(X_train)\n",
    "rf_300_max_preds_test = rf_300_max.predict(X_test)\n",
    "rf_50_max_MSE_train = mean_squared_error(y_train, rf_50_max_preds_train)\n",
    "rf_50_max_MSE_test = mean_squared_error(y_test, rf_50_max_preds_test)\n",
    "rf_100_max_MSE_train = mean_squared_error(y_train, rf_100_max_preds_train)\n",
    "rf_100_max_MSE_test = mean_squared_error(y_test, rf_100_max_preds_test)\n",
    "rf_150_max_MSE_train = mean_squared_error(y_train, rf_150_max_preds_train)\n",
    "rf_150_max_MSE_test = mean_squared_error(y_test, rf_150_max_preds_test)\n",
    "rf_200_max_MSE_train = mean_squared_error(y_train, rf_200_max_preds_train)\n",
    "rf_200_max_MSE_test = mean_squared_error(y_test, rf_200_max_preds_test)\n",
    "rf_250_max_MSE_train = mean_squared_error(y_train, rf_250_max_preds_train)\n",
    "rf_250_max_MSE_test = mean_squared_error(y_test, rf_250_max_preds_test)\n",
    "rf_300_max_MSE_train = mean_squared_error(y_train, rf_300_max_preds_train)\n",
    "rf_300_max_MSE_test = mean_squared_error(y_test, rf_300_max_preds_test)\n",
    "rf_max_MSE_train = [rf_50_max_MSE_train, rf_100_max_MSE_train, rf_150_max_MSE_train, rf_200_max_MSE_train,\\\n",
    "                    rf_250_max_MSE_train, rf_300_max_MSE_train]\n",
    "rf_max_MSE_test = [rf_50_max_MSE_test, rf_100_max_MSE_test, rf_150_max_MSE_test, rf_200_max_MSE_test, \\\n",
    "                  rf_250_max_MSE_test, rf_300_max_MSE_test]\n",
    "print(rf_max_MSE_train)\n",
    "print(rf_max_MSE_test)"
   ]
  }
 ],
 "metadata": {
  "kernelspec": {
   "display_name": "Python 3",
   "language": "python",
   "name": "python3"
  },
  "language_info": {
   "codemirror_mode": {
    "name": "ipython",
    "version": 3
   },
   "file_extension": ".py",
   "mimetype": "text/x-python",
   "name": "python",
   "nbconvert_exporter": "python",
   "pygments_lexer": "ipython3",
   "version": "3.7.4"
  }
 },
 "nbformat": 4,
 "nbformat_minor": 2
}
